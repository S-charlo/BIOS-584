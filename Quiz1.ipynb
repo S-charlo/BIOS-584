{
 "cells": [
  {
   "cell_type": "markdown",
   "id": "576b3ce7-ce49-42a2-af22-8d2af55cb1b1",
   "metadata": {},
   "source": [
    "Sofia Charlot"
   ]
  },
  {
   "cell_type": "code",
   "execution_count": 10,
   "id": "caca46bd-3ba4-4918-ae65-39f33c4b0fb8",
   "metadata": {},
   "outputs": [
    {
     "name": "stdout",
     "output_type": "stream",
     "text": [
      "['cat 1', 'cat 1', 'cat 1', 'cat2']\n"
     ]
    }
   ],
   "source": [
    "cats_list = [\"cat 1\",\"cat 1\",\"cat 1\"]\n",
    "cats_list.append('cat 2')\n",
    "print(cats_list)"
   ]
  },
  {
   "cell_type": "code",
   "execution_count": 14,
   "id": "2e5a0c45-a6bd-4a2c-8d74-6a924a1c61f3",
   "metadata": {},
   "outputs": [
    {
     "name": "stdout",
     "output_type": "stream",
     "text": [
      "[]\n"
     ]
    }
   ],
   "source": [
    "cats_list2 = [\"cat 1\",\"cat 1\",\"cat 1\"]\n",
    "cats_list2.clear()\n",
    "print(cats_list2)"
   ]
  },
  {
   "cell_type": "code",
   "execution_count": 15,
   "id": "a70f7139-a840-4010-98b4-7ce9fbbff011",
   "metadata": {},
   "outputs": [
    {
     "name": "stdout",
     "output_type": "stream",
     "text": [
      "['cat 1', 'cat 1', 'cat 1']\n"
     ]
    }
   ],
   "source": [
    "cats_list3 = [\"cat 1\",\"cat 1\",\"cat 1\"]\n",
    "cats_list3.copy()\n",
    "print(cats_list3)"
   ]
  },
  {
   "cell_type": "code",
   "execution_count": 16,
   "id": "bdd579fc-30dc-43a6-95c2-9ba6cc64a4e6",
   "metadata": {},
   "outputs": [
    {
     "name": "stdout",
     "output_type": "stream",
     "text": [
      "['cat1', 'cat1', 'cat2']\n"
     ]
    }
   ],
   "source": [
    "cats_list4 = [\"cat1\",\"cat1\",\"cat2\"]\n",
    "cats_list4.count('cat1')\n",
    "print(cats_list4)"
   ]
  },
  {
   "cell_type": "code",
   "execution_count": 17,
   "id": "6856b454-52c8-42be-b687-f4c8b6bb1906",
   "metadata": {},
   "outputs": [
    {
     "name": "stdout",
     "output_type": "stream",
     "text": [
      "['cat1', 'cat1', 'cat2']\n"
     ]
    }
   ],
   "source": [
    "cats_list5 = [\"cat1\",\"cat1\",\"cat2\"]\n",
    "cats_list5.index('cat2')\n",
    "print(cats_list5)"
   ]
  },
  {
   "cell_type": "code",
   "execution_count": 18,
   "id": "7fdeb233-ae88-4e94-8ac6-30c56a56d6ec",
   "metadata": {},
   "outputs": [
    {
     "name": "stdout",
     "output_type": "stream",
     "text": [
      "['cat1', 'cat2', 'cat1', 'cat2']\n"
     ]
    }
   ],
   "source": [
    "cats_list6 = [\"cat1\",\"cat1\",\"cat2\"]\n",
    "cats_list6.insert(1,'cat2')\n",
    "print(cats_list6)"
   ]
  },
  {
   "cell_type": "code",
   "execution_count": 20,
   "id": "2d1a762e-f230-43a1-b022-172cf6dc2dbe",
   "metadata": {},
   "outputs": [
    {
     "name": "stdout",
     "output_type": "stream",
     "text": [
      "['cat1', 'cat1']\n"
     ]
    }
   ],
   "source": [
    "cats_list7 = [\"cat1\",\"cat1\",\"cat2\"]\n",
    "cats_list7.pop(2)\n",
    "print(cats_list7)"
   ]
  },
  {
   "cell_type": "code",
   "execution_count": 21,
   "id": "5fb6cb70-45e1-47e9-903d-3fc8717358d5",
   "metadata": {},
   "outputs": [
    {
     "name": "stdout",
     "output_type": "stream",
     "text": [
      "['cat1', 'cat1']\n"
     ]
    }
   ],
   "source": [
    "cats_list8 = [\"cat1\",\"cat1\",\"cat2\"]\n",
    "cats_list8.remove('cat2')\n",
    "print(cats_list8)"
   ]
  },
  {
   "cell_type": "code",
   "execution_count": 23,
   "id": "d4bdc9e3-c59d-4912-bfc6-4067f357221d",
   "metadata": {},
   "outputs": [
    {
     "name": "stdout",
     "output_type": "stream",
     "text": [
      "['cat2', 'cat1', 'cat1']\n"
     ]
    }
   ],
   "source": [
    "cats_list9 = [\"cat1\",\"cat1\",\"cat2\"]\n",
    "cats_list9.reverse()\n",
    "print(cats_list9)"
   ]
  },
  {
   "cell_type": "code",
   "execution_count": null,
   "id": "cda3cb43-1ec3-4f08-9ac1-83bcb35cc90b",
   "metadata": {},
   "outputs": [],
   "source": []
  }
 ],
 "metadata": {
  "kernelspec": {
   "display_name": "Python 3 (ipykernel)",
   "language": "python",
   "name": "python3"
  },
  "language_info": {
   "codemirror_mode": {
    "name": "ipython",
    "version": 3
   },
   "file_extension": ".py",
   "mimetype": "text/x-python",
   "name": "python",
   "nbconvert_exporter": "python",
   "pygments_lexer": "ipython3",
   "version": "3.11.9"
  }
 },
 "nbformat": 4,
 "nbformat_minor": 5
}
