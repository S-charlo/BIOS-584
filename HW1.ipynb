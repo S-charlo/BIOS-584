{
 "cells": [
  {
   "cell_type": "markdown",
   "id": "265171ec-a48d-4f82-ab00-c404d57433ca",
   "metadata": {},
   "source": [
    "\"This is my first Jupyter notebook\""
   ]
  },
  {
   "cell_type": "code",
   "execution_count": 3,
   "id": "cde0facc-b7c4-4dea-af72-be443d8ebdbc",
   "metadata": {},
   "outputs": [
    {
     "name": "stdout",
     "output_type": "stream",
     "text": [
      "My name is Sofia Charlot.\n"
     ]
    }
   ],
   "source": [
    "print(\"My name is Sofia Charlot.\")"
   ]
  }
 ],
 "metadata": {
  "kernelspec": {
   "display_name": "Python 3 (ipykernel)",
   "language": "python",
   "name": "python3"
  },
  "language_info": {
   "codemirror_mode": {
    "name": "ipython",
    "version": 3
   },
   "file_extension": ".py",
   "mimetype": "text/x-python",
   "name": "python",
   "nbconvert_exporter": "python",
   "pygments_lexer": "ipython3",
   "version": "3.9.6"
  }
 },
 "nbformat": 4,
 "nbformat_minor": 5
}
